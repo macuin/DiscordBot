{
 "cells": [
  {
   "cell_type": "code",
   "execution_count": null,
   "metadata": {},
   "outputs": [
    {
     "name": "stdout",
     "output_type": "stream",
     "text": [
      "Bot os ready.\n"
     ]
    },
    {
     "name": "stderr",
     "output_type": "stream",
     "text": [
      "Ignoring exception in command None:\n",
      "discord.ext.commands.errors.CommandNotFound: Command \"editjack\" is not found\n"
     ]
    }
   ],
   "source": [
    "import nest_asyncio \n",
    "nest_asyncio.apply()\n",
    "\n",
    "import discord\n",
    "from discord.ext import commands\n",
    "\n",
    "client = commands.Bot(command_prefix = '$')\n",
    "\n",
    "@client.event\n",
    "async def on_ready():\n",
    "    print('Bot os ready.')\n",
    "\n",
    "@client.command()\n",
    "async def ping(ctx):\n",
    "  await ctx.send(f'Pong! {client.latency * 1000}ms')\n",
    " \n",
    "@client.command()\n",
    "async def clear(ctx, amount = 5):\n",
    "  await ctx.channel.purge(limit = amount)\n",
    "\n",
    "@client.command()\n",
    "async def echo(ctx, text = 'You didn\\'t say anything, try again.'):\n",
    "  await ctx.send(text)\n",
    "\n",
    "@client.command()\n",
    "async def list(ctx):\n",
    "  global list2\n",
    "  with open('nb.txt', 'r') as filehandle:\n",
    "    list2.clear()\n",
    "    for line in filehandle:\n",
    "        currentPlace = line[:-1]\n",
    "        list2.append(currentPlace)\n",
    "\n",
    "  await ctx.send(list2)\n",
    "\n",
    "client.run('[BOT_TOKEN]')"
   ]
  },
  {
   "cell_type": "code",
   "execution_count": null,
   "metadata": {},
   "outputs": [],
   "source": []
  }
 ],
 "metadata": {
  "kernelspec": {
   "display_name": "Python 3",
   "language": "python",
   "name": "python3"
  },
  "language_info": {
   "codemirror_mode": {
    "name": "ipython",
    "version": 3
   },
   "file_extension": ".py",
   "mimetype": "text/x-python",
   "name": "python",
   "nbconvert_exporter": "python",
   "pygments_lexer": "ipython3",
   "version": "3.9.1"
  }
 },
 "nbformat": 4,
 "nbformat_minor": 4
}
