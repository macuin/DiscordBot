{
 "cells": [
  {
   "cell_type": "code",
   "execution_count": null,
   "metadata": {},
   "outputs": [
    {
     "name": "stdout",
     "output_type": "stream",
     "text": [
      "Bot os ready.\n"
     ]
    },
    {
     "name": "stderr",
     "output_type": "stream",
     "text": [
      "Ignoring exception in command None:\n",
      "discord.ext.commands.errors.CommandNotFound: Command \"editjack\" is not found\n"
     ]
    }
   ],
   "source": [
    "import nest_asyncio \n",
    "nest_asyncio.apply()\n",
    "\n",
    "import discord\n",
    "from discord.ext import commands\n",
    "\n",
    "import coc\n",
    "clientcoc = coc.login('mayukh.chatt@gmail.com', 'HDFCBank123')\n",
    "\n",
    "client = commands.Bot(command_prefix = '$')\n",
    "\n",
    "list2 = []\n",
    "\n",
    "@client.event\n",
    "async def on_ready():\n",
    "    print('Bot os ready.')\n",
    "\n",
    "@client.command()\n",
    "async def ping(ctx):\n",
    "  await ctx.send(f'Pong! {client.latency * 1000}ms')\n",
    " \n",
    "@client.command()\n",
    "async def clear(ctx, amount = 5):\n",
    "  await ctx.channel.purge(limit = amount)\n",
    "\n",
    "@client.command()\n",
    "async def echo(ctx, text = 'You didn\\'t say anything, try again.'):\n",
    "  await ctx.send(text)\n",
    "\n",
    "@client.command()\n",
    "async def list(ctx):\n",
    "  global list2\n",
    "  with open('nb.txt', 'r') as filehandle:\n",
    "    list2.clear()\n",
    "    for line in filehandle:\n",
    "        currentPlace = line[:-1]\n",
    "        list2.append(currentPlace)\n",
    "\n",
    "  await ctx.send(list2)\n",
    "\n",
    "@client.command()\n",
    "async def add(ctx, text):\n",
    "  global list2 \n",
    "  list2.append(text)\n",
    "  with open('nb.txt', 'w') as filehandle:\n",
    "    filehandle.writelines(\"%s\\n\" % place for place in list2)\n",
    "  await ctx.send('Items added')\n",
    "\n",
    "@client.command()\n",
    "async def jack(ctx):\n",
    "    await ctx.send('I\\'m British and i\\'m built different 😎, Three Star connoisseur.')\n",
    "\n",
    "@client.command()\n",
    "async def tortuga(ctx):\n",
    "    await ctx.send('Broke my back carrying this clan to Crystal 1')\n",
    "    \n",
    "@client.command()\n",
    "async def lincoln(ctx):\n",
    "    await ctx.send('I\\'m better than Jack.')\n",
    "    \n",
    "@client.command()\n",
    "async def editog(ctx, text):\n",
    "    with open('custom.txt', 'w') as filehandle:\n",
    "        filehandle.writelines(text) \n",
    "    await ctx.send('Set new custom message!')\n",
    "    \n",
    "@client.command()\n",
    "async def og(ctx):\n",
    "    with open('custom.txt', 'r') as filehandle:\n",
    "        for line in filehandle:\n",
    "            text = line\n",
    "    await ctx.send(text)\n",
    "    \n",
    "@client.command()\n",
    "async def mac(ctx):\n",
    "    await ctx.send('I\\'m the worst server admin.')\n",
    "\n",
    "@client.command()\n",
    "async def details(ctx, text):\n",
    "    player = await clientcoc.get_player(text)\n",
    "    clan = await player.get_detailed_clan()\n",
    "    await ctx.send(f'{clan} {player.name} {player.town_hall}')\n",
    "\n",
    "client.run('ODAxMTYwMjk2NDIwOTk5MjE5.YAcoqw.3-ngYMK7_37P0UvDOX8ox4Dd-lo')"
   ]
  },
  {
   "cell_type": "code",
   "execution_count": 34,
   "metadata": {},
   "outputs": [
    {
     "name": "stdout",
     "output_type": "stream",
     "text": [
      "Requirement already satisfied: coc.py in /usr/local/lib/python3.9/site-packages (1.0.4)\n",
      "Requirement already satisfied: aiohttp in /usr/local/lib/python3.9/site-packages (from coc.py) (3.7.3)\n",
      "Requirement already satisfied: yarl<2.0,>=1.0 in /usr/local/lib/python3.9/site-packages (from aiohttp->coc.py) (1.6.3)\n",
      "Requirement already satisfied: attrs>=17.3.0 in /usr/local/lib/python3.9/site-packages (from aiohttp->coc.py) (20.3.0)\n",
      "Requirement already satisfied: async-timeout<4.0,>=3.0 in /usr/local/lib/python3.9/site-packages (from aiohttp->coc.py) (3.0.1)\n",
      "Requirement already satisfied: typing-extensions>=3.6.5 in /usr/local/lib/python3.9/site-packages (from aiohttp->coc.py) (3.7.4.3)\n",
      "Requirement already satisfied: chardet<4.0,>=2.0 in /usr/local/lib/python3.9/site-packages (from aiohttp->coc.py) (3.0.4)\n",
      "Requirement already satisfied: multidict<7.0,>=4.5 in /usr/local/lib/python3.9/site-packages (from aiohttp->coc.py) (5.1.0)\n",
      "Requirement already satisfied: idna>=2.0 in /usr/local/lib/python3.9/site-packages (from yarl<2.0,>=1.0->aiohttp->coc.py) (3.1)\n",
      "\u001b[33mWARNING: You are using pip version 20.3.3; however, version 21.0.1 is available.\n",
      "You should consider upgrading via the '/usr/local/opt/python@3.9/bin/python3.9 -m pip install --upgrade pip' command.\u001b[0m\n"
     ]
    }
   ],
   "source": [
    "!pip3 install coc.py"
   ]
  },
  {
   "cell_type": "code",
   "execution_count": 20,
   "metadata": {},
   "outputs": [
    {
     "name": "stdout",
     "output_type": "stream",
     "text": [
      "✨✨HULK✨✨ has 5089 trophies!\n",
      "Best Clan Ever (#2P8JLCC8P) has 34 members\n",
      "Best Clan Ever (#GJQRUJVL) has 21 members\n",
      "BEST CLAN EVER (#2YYP9UJLC) has 39 members\n",
      "BEST CLAN EVER (#2VGP0U80) has 19 members\n",
      "best clan ever (#Y90RLQRJ) has 45 members\n",
      "#28JVGJPCY is currently in notInWar state.\n"
     ]
    },
    {
     "ename": "RuntimeError",
     "evalue": "Cannot close a running event loop",
     "output_type": "error",
     "traceback": [
      "\u001b[0;31m---------------------------------------------------------------------------\u001b[0m",
      "\u001b[0;31mRuntimeError\u001b[0m                              Traceback (most recent call last)",
      "\u001b[0;32m<ipython-input-20-85fad3ce962f>\u001b[0m in \u001b[0;36m<module>\u001b[0;34m\u001b[0m\n\u001b[1;32m     18\u001b[0m \u001b[0;34m\u001b[0m\u001b[0m\n\u001b[1;32m     19\u001b[0m \u001b[0mclient\u001b[0m\u001b[0;34m.\u001b[0m\u001b[0mloop\u001b[0m\u001b[0;34m.\u001b[0m\u001b[0mrun_until_complete\u001b[0m\u001b[0;34m(\u001b[0m\u001b[0mmain\u001b[0m\u001b[0;34m(\u001b[0m\u001b[0;34m)\u001b[0m\u001b[0;34m)\u001b[0m\u001b[0;34m\u001b[0m\u001b[0;34m\u001b[0m\u001b[0m\n\u001b[0;32m---> 20\u001b[0;31m \u001b[0mclient\u001b[0m\u001b[0;34m.\u001b[0m\u001b[0mclose\u001b[0m\u001b[0;34m(\u001b[0m\u001b[0;34m)\u001b[0m\u001b[0;34m\u001b[0m\u001b[0;34m\u001b[0m\u001b[0m\n\u001b[0m",
      "\u001b[0;32m/usr/local/lib/python3.9/site-packages/coc/client.py\u001b[0m in \u001b[0;36mclose\u001b[0;34m(self)\u001b[0m\n\u001b[1;32m    202\u001b[0m         \u001b[0mself\u001b[0m\u001b[0;34m.\u001b[0m\u001b[0mdispatch\u001b[0m\u001b[0;34m(\u001b[0m\u001b[0;34m\"on_client_close\"\u001b[0m\u001b[0;34m)\u001b[0m\u001b[0;34m\u001b[0m\u001b[0;34m\u001b[0m\u001b[0m\n\u001b[1;32m    203\u001b[0m         \u001b[0mself\u001b[0m\u001b[0;34m.\u001b[0m\u001b[0mloop\u001b[0m\u001b[0;34m.\u001b[0m\u001b[0mrun_until_complete\u001b[0m\u001b[0;34m(\u001b[0m\u001b[0mself\u001b[0m\u001b[0;34m.\u001b[0m\u001b[0mhttp\u001b[0m\u001b[0;34m.\u001b[0m\u001b[0mclose\u001b[0m\u001b[0;34m(\u001b[0m\u001b[0;34m)\u001b[0m\u001b[0;34m)\u001b[0m\u001b[0;34m\u001b[0m\u001b[0;34m\u001b[0m\u001b[0m\n\u001b[0;32m--> 204\u001b[0;31m         \u001b[0mself\u001b[0m\u001b[0;34m.\u001b[0m\u001b[0mloop\u001b[0m\u001b[0;34m.\u001b[0m\u001b[0mclose\u001b[0m\u001b[0;34m(\u001b[0m\u001b[0;34m)\u001b[0m\u001b[0;34m\u001b[0m\u001b[0;34m\u001b[0m\u001b[0m\n\u001b[0m\u001b[1;32m    205\u001b[0m \u001b[0;34m\u001b[0m\u001b[0m\n\u001b[1;32m    206\u001b[0m     \u001b[0;32mdef\u001b[0m \u001b[0mdispatch\u001b[0m\u001b[0;34m(\u001b[0m\u001b[0mself\u001b[0m\u001b[0;34m,\u001b[0m \u001b[0mevent_name\u001b[0m\u001b[0;34m:\u001b[0m \u001b[0mstr\u001b[0m\u001b[0;34m,\u001b[0m \u001b[0;34m*\u001b[0m\u001b[0margs\u001b[0m\u001b[0;34m,\u001b[0m \u001b[0;34m**\u001b[0m\u001b[0mkwargs\u001b[0m\u001b[0;34m)\u001b[0m\u001b[0;34m:\u001b[0m\u001b[0;34m\u001b[0m\u001b[0;34m\u001b[0m\u001b[0m\n",
      "\u001b[0;32m/usr/local/Cellar/python@3.9/3.9.1_6/Frameworks/Python.framework/Versions/3.9/lib/python3.9/asyncio/unix_events.py\u001b[0m in \u001b[0;36mclose\u001b[0;34m(self)\u001b[0m\n\u001b[1;32m     56\u001b[0m \u001b[0;34m\u001b[0m\u001b[0m\n\u001b[1;32m     57\u001b[0m     \u001b[0;32mdef\u001b[0m \u001b[0mclose\u001b[0m\u001b[0;34m(\u001b[0m\u001b[0mself\u001b[0m\u001b[0;34m)\u001b[0m\u001b[0;34m:\u001b[0m\u001b[0;34m\u001b[0m\u001b[0;34m\u001b[0m\u001b[0m\n\u001b[0;32m---> 58\u001b[0;31m         \u001b[0msuper\u001b[0m\u001b[0;34m(\u001b[0m\u001b[0;34m)\u001b[0m\u001b[0;34m.\u001b[0m\u001b[0mclose\u001b[0m\u001b[0;34m(\u001b[0m\u001b[0;34m)\u001b[0m\u001b[0;34m\u001b[0m\u001b[0;34m\u001b[0m\u001b[0m\n\u001b[0m\u001b[1;32m     59\u001b[0m         \u001b[0;32mif\u001b[0m \u001b[0;32mnot\u001b[0m \u001b[0msys\u001b[0m\u001b[0;34m.\u001b[0m\u001b[0mis_finalizing\u001b[0m\u001b[0;34m(\u001b[0m\u001b[0;34m)\u001b[0m\u001b[0;34m:\u001b[0m\u001b[0;34m\u001b[0m\u001b[0;34m\u001b[0m\u001b[0m\n\u001b[1;32m     60\u001b[0m             \u001b[0;32mfor\u001b[0m \u001b[0msig\u001b[0m \u001b[0;32min\u001b[0m \u001b[0mlist\u001b[0m\u001b[0;34m(\u001b[0m\u001b[0mself\u001b[0m\u001b[0;34m.\u001b[0m\u001b[0m_signal_handlers\u001b[0m\u001b[0;34m)\u001b[0m\u001b[0;34m:\u001b[0m\u001b[0;34m\u001b[0m\u001b[0;34m\u001b[0m\u001b[0m\n",
      "\u001b[0;32m/usr/local/Cellar/python@3.9/3.9.1_6/Frameworks/Python.framework/Versions/3.9/lib/python3.9/asyncio/selector_events.py\u001b[0m in \u001b[0;36mclose\u001b[0;34m(self)\u001b[0m\n\u001b[1;32m     87\u001b[0m     \u001b[0;32mdef\u001b[0m \u001b[0mclose\u001b[0m\u001b[0;34m(\u001b[0m\u001b[0mself\u001b[0m\u001b[0;34m)\u001b[0m\u001b[0;34m:\u001b[0m\u001b[0;34m\u001b[0m\u001b[0;34m\u001b[0m\u001b[0m\n\u001b[1;32m     88\u001b[0m         \u001b[0;32mif\u001b[0m \u001b[0mself\u001b[0m\u001b[0;34m.\u001b[0m\u001b[0mis_running\u001b[0m\u001b[0;34m(\u001b[0m\u001b[0;34m)\u001b[0m\u001b[0;34m:\u001b[0m\u001b[0;34m\u001b[0m\u001b[0;34m\u001b[0m\u001b[0m\n\u001b[0;32m---> 89\u001b[0;31m             \u001b[0;32mraise\u001b[0m \u001b[0mRuntimeError\u001b[0m\u001b[0;34m(\u001b[0m\u001b[0;34m\"Cannot close a running event loop\"\u001b[0m\u001b[0;34m)\u001b[0m\u001b[0;34m\u001b[0m\u001b[0;34m\u001b[0m\u001b[0m\n\u001b[0m\u001b[1;32m     90\u001b[0m         \u001b[0;32mif\u001b[0m \u001b[0mself\u001b[0m\u001b[0;34m.\u001b[0m\u001b[0mis_closed\u001b[0m\u001b[0;34m(\u001b[0m\u001b[0;34m)\u001b[0m\u001b[0;34m:\u001b[0m\u001b[0;34m\u001b[0m\u001b[0;34m\u001b[0m\u001b[0m\n\u001b[1;32m     91\u001b[0m             \u001b[0;32mreturn\u001b[0m\u001b[0;34m\u001b[0m\u001b[0;34m\u001b[0m\u001b[0m\n",
      "\u001b[0;31mRuntimeError\u001b[0m: Cannot close a running event loop"
     ]
    }
   ],
   "source": [
    "import coc\n",
    "\n",
    "client = coc.login('mayukh.chatt@gmail.com', 'HDFCBank123')\n",
    "\n",
    "async def main():\n",
    "    player = await client.get_player(\"#8JLPRPVCG\")\n",
    "    print(\"{0.name} has {0.trophies} trophies!\".format(player))\n",
    "\n",
    "    clans = await client.search_clans(name=\"Best Clan Ever\", limit=5)\n",
    "    for clan in clans:\n",
    "        print(\"{0.name} ({0.tag}) has {0.member_count} members\".format(clan))\n",
    "\n",
    "    try:\n",
    "        war = await client.get_current_war(\"#28JVGJPCY\")\n",
    "        print(\"{0.clan_tag} is currently in {0.state} state.\".format(war))\n",
    "    except coc.PrivateWarLog:\n",
    "        print(\"Uh oh, they have a private war log!\")\n",
    "\n",
    "client.loop.run_until_complete(main())\n",
    "client.close()"
   ]
  },
  {
   "cell_type": "code",
   "execution_count": null,
   "metadata": {},
   "outputs": [],
   "source": []
  }
 ],
 "metadata": {
  "kernelspec": {
   "display_name": "Python 3",
   "language": "python",
   "name": "python3"
  },
  "language_info": {
   "codemirror_mode": {
    "name": "ipython",
    "version": 3
   },
   "file_extension": ".py",
   "mimetype": "text/x-python",
   "name": "python",
   "nbconvert_exporter": "python",
   "pygments_lexer": "ipython3",
   "version": "3.9.1"
  }
 },
 "nbformat": 4,
 "nbformat_minor": 4
}
